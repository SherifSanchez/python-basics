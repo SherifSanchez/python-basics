{
  "nbformat": 4,
  "nbformat_minor": 0,
  "metadata": {
    "colab": {
      "name": "Untitled1.ipynb",
      "provenance": []
    },
    "kernelspec": {
      "name": "python3",
      "display_name": "Python 3"
    },
    "language_info": {
      "name": "python"
    }
  },
  "cells": [
    {
      "cell_type": "code",
      "execution_count": 17,
      "metadata": {
        "colab": {
          "base_uri": "https://localhost:8080/"
        },
        "id": "ZNfdZgo1JErF",
        "outputId": "d59e1979-7e97-41c2-862c-5b89cbd37f21"
      },
      "outputs": [
        {
          "output_type": "stream",
          "name": "stdout",
          "text": [
            "sherif ibrahim\n"
          ]
        }
      ],
      "source": [
        "#Question1\n",
        "z = \"ibrahim\"\n",
        "y = \"sherif \"\n",
        "print(y+z)\n"
      ]
    },
    {
      "cell_type": "code",
      "source": [
        "#Question2\n",
        "n = 5\n",
        "str1 = str(n)\n",
        "str2 = str1 + str1 \n",
        "str3 = str1 + str1 + str1 \n",
        "print(int(str1)+int(str2)+int(str3))"
      ],
      "metadata": {
        "colab": {
          "base_uri": "https://localhost:8080/"
        },
        "id": "Ez4QR04UJjSC",
        "outputId": "e23980d2-a4c4-4be2-bae6-b5fce1c824fb"
      },
      "execution_count": 8,
      "outputs": [
        {
          "output_type": "stream",
          "name": "stdout",
          "text": [
            "615\n"
          ]
        }
      ]
    },
    {
      "cell_type": "code",
      "source": [
        "#Question3\n",
        "z =[2,4,77,34,57,9]\n",
        "for value in z :\n",
        "  if value % 2 == 0 :\n",
        "    print(\"even\")\n",
        "  if value % 2 != 0 :\n",
        "    print(\"odd\")"
      ],
      "metadata": {
        "colab": {
          "base_uri": "https://localhost:8080/"
        },
        "id": "TJs5WaV5K3T1",
        "outputId": "029745dd-4e61-4af1-ce3c-ddc9427803fb"
      },
      "execution_count": 12,
      "outputs": [
        {
          "output_type": "stream",
          "name": "stdout",
          "text": [
            "even\n",
            "even\n",
            "odd\n",
            "even\n",
            "odd\n",
            "odd\n"
          ]
        }
      ]
    },
    {
      "cell_type": "code",
      "source": [
        "#Question4\n",
        "nl=[]\n",
        "for z in range(2000,3200):\n",
        "  if (z%7==0) and (z%5!=0):\n",
        "    nl.append(str(z))\n",
        "print (','.join(nl))"
      ],
      "metadata": {
        "colab": {
          "base_uri": "https://localhost:8080/"
        },
        "id": "sgv7REvmLs13",
        "outputId": "ac36f379-aefd-4b8f-d0f9-be151f510ae0"
      },
      "execution_count": 16,
      "outputs": [
        {
          "output_type": "stream",
          "name": "stdout",
          "text": [
            "2002,2009,2016,2023,2037,2044,2051,2058,2072,2079,2086,2093,2107,2114,2121,2128,2142,2149,2156,2163,2177,2184,2191,2198,2212,2219,2226,2233,2247,2254,2261,2268,2282,2289,2296,2303,2317,2324,2331,2338,2352,2359,2366,2373,2387,2394,2401,2408,2422,2429,2436,2443,2457,2464,2471,2478,2492,2499,2506,2513,2527,2534,2541,2548,2562,2569,2576,2583,2597,2604,2611,2618,2632,2639,2646,2653,2667,2674,2681,2688,2702,2709,2716,2723,2737,2744,2751,2758,2772,2779,2786,2793,2807,2814,2821,2828,2842,2849,2856,2863,2877,2884,2891,2898,2912,2919,2926,2933,2947,2954,2961,2968,2982,2989,2996,3003,3017,3024,3031,3038,3052,3059,3066,3073,3087,3094,3101,3108,3122,3129,3136,3143,3157,3164,3171,3178,3192,3199\n"
          ]
        }
      ]
    },
    {
      "cell_type": "code",
      "source": [
        "#Question5\n",
        "z = int(input())\n",
        "fact = 1\n",
        "for i in range(1,z+1):\n",
        "  fact = i * fact\n",
        "  print(fact)\n",
        "\n",
        "\n",
        "\n",
        "\n"
      ],
      "metadata": {
        "colab": {
          "base_uri": "https://localhost:8080/"
        },
        "id": "KKCbFH05OCUL",
        "outputId": "e005559e-2ce2-43e1-c50b-7cc1810dbe15"
      },
      "execution_count": 38,
      "outputs": [
        {
          "output_type": "stream",
          "name": "stdout",
          "text": [
            "8\n",
            "1\n",
            "2\n",
            "6\n",
            "24\n",
            "120\n",
            "720\n",
            "5040\n",
            "40320\n"
          ]
        }
      ]
    },
    {
      "cell_type": "code",
      "source": [
        "#Question6\n",
        "c=\"hello team\"\n",
        "for i in range(len(c)):\n",
        "  if(i % 2 == 0):\n",
        "    print(c[i],end=\"\")\n",
        "  "
      ],
      "metadata": {
        "colab": {
          "base_uri": "https://localhost:8080/"
        },
        "id": "ES-uXXbVQOXg",
        "outputId": "e899f919-6fad-4ab5-8f70-9ec9f55a2b53"
      },
      "execution_count": 56,
      "outputs": [
        {
          "output_type": "stream",
          "name": "stdout",
          "text": [
            "hlota"
          ]
        }
      ]
    },
    {
      "cell_type": "code",
      "source": [
        "#Question7\n",
        "z = int(input())\n",
        "if z >= 500:\n",
        "  f =z*0.5\n",
        "  print(f)\n",
        "elif (z>=200) and (z<500):\n",
        "  b =z*0.7\n",
        "  print(b)\n",
        "else:\n",
        "  c =z*0.9\n",
        "  print(c)\n",
        "\n"
      ],
      "metadata": {
        "colab": {
          "base_uri": "https://localhost:8080/"
        },
        "id": "iA4ZuOR3RoNA",
        "outputId": "727fb32c-c475-4b72-a8b3-55cfecf697b3"
      },
      "execution_count": 50,
      "outputs": [
        {
          "output_type": "stream",
          "name": "stdout",
          "text": [
            "150\n",
            "135.0\n"
          ]
        }
      ]
    }
  ]
}